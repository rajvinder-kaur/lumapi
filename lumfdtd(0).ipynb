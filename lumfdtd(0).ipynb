{
 "cells": [
  {
   "cell_type": "code",
   "execution_count": 3,
   "metadata": {},
   "outputs": [
    {
     "name": "stderr",
     "output_type": "stream",
     "text": [
      "C:\\Users\\DELL\\AppData\\Local\\Temp\\ipykernel_9972\\3921245968.py:6: DeprecationWarning: the imp module is deprecated in favour of importlib and slated for removal in Python 3.12; see the module's documentation for alternative uses\n",
      "  import imp\n"
     ]
    }
   ],
   "source": [
    "#importing modules\n",
    "import numpy as np \n",
    "import matplotlib.pyplot as plt \n",
    "import os \n",
    "import sys\n",
    "import imp"
   ]
  },
  {
   "cell_type": "code",
   "execution_count": 4,
   "metadata": {},
   "outputs": [],
   "source": [
    "#importing lumerical's python api\n",
    "os.add_dll_directory(\"C:\\\\Program Files\\\\Lumerical\\\\v202\\\\api\\\\python\")\n",
    "lumapi = imp.load_source(\"lumapi\", \"C:\\\\Program Files\\\\Lumerical\\\\v202\\\\api\\\\python\\\\lumapi.py\")\n",
    "import lumapi"
   ]
  },
  {
   "cell_type": "code",
   "execution_count": null,
   "metadata": {},
   "outputs": [],
   "source": [
    "#initialising fdtd simulation\n",
    "fdtd = lumapi.FDTD()"
   ]
  },
  {
   "cell_type": "code",
   "execution_count": 6,
   "metadata": {},
   "outputs": [],
   "source": [
    "#setting up simulation parameters\n",
    "\n",
    "x = 240e-9\n",
    "y = 240e-9\n",
    "z = 240e-9\n",
    "\n",
    "r = 50e-9\n",
    "\n",
    "wl_start = 200e-9\n",
    "wl_stop = 1000e-9\n",
    "\n",
    "time = 500e-15"
   ]
  },
  {
   "cell_type": "code",
   "execution_count": 8,
   "metadata": {},
   "outputs": [
    {
     "ename": "LumApiError",
     "evalue": "'Only 1 simulation area is supported.'",
     "output_type": "error",
     "traceback": [
      "\u001b[1;31m---------------------------------------------------------------------------\u001b[0m",
      "\u001b[1;31mLumApiError\u001b[0m                               Traceback (most recent call last)",
      "Cell \u001b[1;32mIn[8], line 2\u001b[0m\n\u001b[0;32m      1\u001b[0m \u001b[38;5;66;03m# adding simulation area \u001b[39;00m\n\u001b[1;32m----> 2\u001b[0m \u001b[43mfdtd\u001b[49m\u001b[38;5;241;43m.\u001b[39;49m\u001b[43maddfdtd\u001b[49m\u001b[43m(\u001b[49m\u001b[43m)\u001b[49m\n\u001b[0;32m      4\u001b[0m \u001b[38;5;66;03m#setting the dimensions of simulation area\u001b[39;00m\n\u001b[0;32m      5\u001b[0m fdtd\u001b[38;5;241m.\u001b[39mset(\u001b[38;5;124m\"\u001b[39m\u001b[38;5;124mx\u001b[39m\u001b[38;5;124m\"\u001b[39m,\u001b[38;5;241m0.0\u001b[39m)\n",
      "File \u001b[1;32mC:\\Program Files\\Lumerical\\v202\\api\\python\\lumapi.py:1136\u001b[0m, in \u001b[0;36mLumerical.__init__.<locals>.<lambda>\u001b[1;34m(self, *args, **kwargs)\u001b[0m\n\u001b[0;32m   1133\u001b[0m \u001b[38;5;28;01mfor\u001b[39;00m name \u001b[38;5;129;01min\u001b[39;00m [n \u001b[38;5;28;01mfor\u001b[39;00m n \u001b[38;5;129;01min\u001b[39;00m commands \u001b[38;5;28;01mif\u001b[39;00m n \u001b[38;5;129;01mnot\u001b[39;00m \u001b[38;5;129;01min\u001b[39;00m functionsToExclude]:\n\u001b[0;32m   1134\u001b[0m     \u001b[38;5;28;01mif\u001b[39;00m name \u001b[38;5;129;01min\u001b[39;00m addScriptCommands:\n\u001b[0;32m   1135\u001b[0m         method \u001b[38;5;241m=\u001b[39m (\u001b[38;5;28;01mlambda\u001b[39;00m x: \u001b[38;5;28;01mlambda\u001b[39;00m \u001b[38;5;28mself\u001b[39m, \u001b[38;5;241m*\u001b[39margs, \u001b[38;5;241m*\u001b[39m\u001b[38;5;241m*\u001b[39mkwargs:\n\u001b[1;32m-> 1136\u001b[0m         appCallWithConstructor(\u001b[38;5;28mself\u001b[39m, x, args, \u001b[38;5;241m*\u001b[39m\u001b[38;5;241m*\u001b[39mkwargs))(name)\n\u001b[0;32m   1137\u001b[0m     \u001b[38;5;28;01melse\u001b[39;00m:\n\u001b[0;32m   1138\u001b[0m         method \u001b[38;5;241m=\u001b[39m (\u001b[38;5;28;01mlambda\u001b[39;00m x: \u001b[38;5;28;01mlambda\u001b[39;00m \u001b[38;5;28mself\u001b[39m, \u001b[38;5;241m*\u001b[39margs: appCall(\u001b[38;5;28mself\u001b[39m, x, args))(name)\n",
      "File \u001b[1;32mC:\\Program Files\\Lumerical\\v202\\api\\python\\lumapi.py:726\u001b[0m, in \u001b[0;36mappCallWithConstructor\u001b[1;34m(self, funcName, *args, **kwargs)\u001b[0m\n\u001b[0;32m    725\u001b[0m \u001b[38;5;28;01mdef\u001b[39;00m \u001b[38;5;21mappCallWithConstructor\u001b[39m(\u001b[38;5;28mself\u001b[39m, funcName, \u001b[38;5;241m*\u001b[39margs, \u001b[38;5;241m*\u001b[39m\u001b[38;5;241m*\u001b[39mkwargs):\n\u001b[1;32m--> 726\u001b[0m     \u001b[43mappCall\u001b[49m\u001b[43m(\u001b[49m\u001b[38;5;28;43mself\u001b[39;49m\u001b[43m,\u001b[49m\u001b[43m \u001b[49m\u001b[43mfuncName\u001b[49m\u001b[43m,\u001b[49m\u001b[43m \u001b[49m\u001b[38;5;241;43m*\u001b[39;49m\u001b[43margs\u001b[49m\u001b[43m)\u001b[49m\n\u001b[0;32m    727\u001b[0m     \u001b[38;5;28;01mif\u001b[39;00m \u001b[38;5;124m\"\u001b[39m\u001b[38;5;124mproperties\u001b[39m\u001b[38;5;124m\"\u001b[39m \u001b[38;5;129;01min\u001b[39;00m kwargs:\n\u001b[0;32m    728\u001b[0m         \u001b[38;5;28;01mif\u001b[39;00m \u001b[38;5;129;01mnot\u001b[39;00m \u001b[38;5;28misinstance\u001b[39m(kwargs[\u001b[38;5;124m\"\u001b[39m\u001b[38;5;124mproperties\u001b[39m\u001b[38;5;124m\"\u001b[39m], collections\u001b[38;5;241m.\u001b[39mOrderedDict):\n",
      "File \u001b[1;32mC:\\Program Files\\Lumerical\\v202\\api\\python\\lumapi.py:801\u001b[0m, in \u001b[0;36mappCall\u001b[1;34m(self, name, *args)\u001b[0m\n\u001b[0;32m    799\u001b[0m         argLumTypes \u001b[38;5;241m=\u001b[39m lumTypes(\u001b[38;5;28mlist\u001b[39m(args[\u001b[38;5;241m0\u001b[39m]))\n\u001b[0;32m    800\u001b[0m         message \u001b[38;5;241m+\u001b[39m\u001b[38;5;241m=\u001b[39m (\u001b[38;5;124m\"\u001b[39m\u001b[38;5;124m - \u001b[39m\u001b[38;5;124m\"\u001b[39m \u001b[38;5;241m+\u001b[39m name \u001b[38;5;241m+\u001b[39m \u001b[38;5;124m\"\u001b[39m\u001b[38;5;124m arguments were converted to (\u001b[39m\u001b[38;5;124m\"\u001b[39m \u001b[38;5;241m+\u001b[39m \u001b[38;5;124m\"\u001b[39m\u001b[38;5;124m, \u001b[39m\u001b[38;5;124m\"\u001b[39m\u001b[38;5;241m.\u001b[39mjoin(argLumTypes) \u001b[38;5;241m+\u001b[39m \u001b[38;5;124m\"\u001b[39m\u001b[38;5;124m)\u001b[39m\u001b[38;5;124m\"\u001b[39m)\n\u001b[1;32m--> 801\u001b[0m     \u001b[38;5;28;01mraise\u001b[39;00m LumApiError(message)\n\u001b[0;32m    802\u001b[0m \u001b[38;5;28;01mif\u001b[39;00m \u001b[38;5;28misinstance\u001b[39m(rvals[\u001b[38;5;241m0\u001b[39m], \u001b[38;5;28mstr\u001b[39m) \u001b[38;5;129;01mand\u001b[39;00m (rvals[\u001b[38;5;241m0\u001b[39m] \u001b[38;5;241m==\u001b[39m \u001b[38;5;124m\"\u001b[39m\u001b[38;5;124md6d8d1b2c083c251\u001b[39m\u001b[38;5;124m\"\u001b[39m):\n\u001b[0;32m    803\u001b[0m     rvals[\u001b[38;5;241m0\u001b[39m] \u001b[38;5;241m=\u001b[39m \u001b[38;5;28;01mNone\u001b[39;00m\n",
      "\u001b[1;31mLumApiError\u001b[0m: 'Only 1 simulation area is supported.'"
     ]
    }
   ],
   "source": [
    "# adding simulation area \n",
    "fdtd.addfdtd()\n",
    "\n",
    "#setting the dimensions of simulation area\n",
    "fdtd.set(\"x\",0.0)\n",
    "fdtd.set(\"x span\", x)\n",
    "\n",
    "fdtd.set(\"y\",0.0)\n",
    "fdtd.set(\"y span\", y)\n",
    "\n",
    "fdtd.set(\"z\",0.0)\n",
    "fdtd.set(\"z span\", z)\n",
    "\n",
    "#simulation dimension\n",
    "fdtd.set(\"dimension\",\"3D\")\n",
    "fdtd.set (\"simulation time\", time )\n",
    "\n",
    "#configuring boundary conditions \n",
    "fdtd.set(\"mesh type\", \"uniform\")\n",
    "\n",
    "#setting yee cell size \n",
    "fdtd.set(\"dx\",2.5e-9)\n",
    "fdtd.set(\"dy\",2.5e-9)\n",
    "fdtd.set(\"dz\",2.5e-9)"
   ]
  },
  {
   "cell_type": "code",
   "execution_count": 9,
   "metadata": {},
   "outputs": [
    {
     "ename": "LumApiError",
     "evalue": "'in set, the requested property was not found'",
     "output_type": "error",
     "traceback": [
      "\u001b[1;31m---------------------------------------------------------------------------\u001b[0m",
      "\u001b[1;31mLumApiError\u001b[0m                               Traceback (most recent call last)",
      "Cell \u001b[1;32mIn[9], line 14\u001b[0m\n\u001b[0;32m     12\u001b[0m \u001b[38;5;66;03m#setting direction \u001b[39;00m\n\u001b[0;32m     13\u001b[0m fdtd\u001b[38;5;241m.\u001b[39mset(\u001b[38;5;124m\"\u001b[39m\u001b[38;5;124minjection axis\u001b[39m\u001b[38;5;124m\"\u001b[39m,\u001b[38;5;124m\"\u001b[39m\u001b[38;5;124mx\u001b[39m\u001b[38;5;124m\"\u001b[39m)\n\u001b[1;32m---> 14\u001b[0m \u001b[43mfdtd\u001b[49m\u001b[38;5;241;43m.\u001b[39;49m\u001b[43mset\u001b[49m\u001b[43m(\u001b[49m\u001b[38;5;124;43m\"\u001b[39;49m\u001b[38;5;124;43mwavelenght start\u001b[39;49m\u001b[38;5;124;43m\"\u001b[39;49m\u001b[43m,\u001b[49m\u001b[43m \u001b[49m\u001b[43mwl_start\u001b[49m\u001b[43m)\u001b[49m\n\u001b[0;32m     15\u001b[0m fdtd\u001b[38;5;241m.\u001b[39mset(\u001b[38;5;124m\"\u001b[39m\u001b[38;5;124mwavelenght stop\u001b[39m\u001b[38;5;124m\"\u001b[39m, wl_stop)\n",
      "File \u001b[1;32mC:\\Program Files\\Lumerical\\v202\\api\\python\\lumapi.py:1138\u001b[0m, in \u001b[0;36mLumerical.__init__.<locals>.<lambda>\u001b[1;34m(self, *args)\u001b[0m\n\u001b[0;32m   1135\u001b[0m     method \u001b[38;5;241m=\u001b[39m (\u001b[38;5;28;01mlambda\u001b[39;00m x: \u001b[38;5;28;01mlambda\u001b[39;00m \u001b[38;5;28mself\u001b[39m, \u001b[38;5;241m*\u001b[39margs, \u001b[38;5;241m*\u001b[39m\u001b[38;5;241m*\u001b[39mkwargs:\n\u001b[0;32m   1136\u001b[0m     appCallWithConstructor(\u001b[38;5;28mself\u001b[39m, x, args, \u001b[38;5;241m*\u001b[39m\u001b[38;5;241m*\u001b[39mkwargs))(name)\n\u001b[0;32m   1137\u001b[0m \u001b[38;5;28;01melse\u001b[39;00m:\n\u001b[1;32m-> 1138\u001b[0m     method \u001b[38;5;241m=\u001b[39m (\u001b[38;5;28;01mlambda\u001b[39;00m x: \u001b[38;5;28;01mlambda\u001b[39;00m \u001b[38;5;28mself\u001b[39m, \u001b[38;5;241m*\u001b[39margs: \u001b[43mappCall\u001b[49m\u001b[43m(\u001b[49m\u001b[38;5;28;43mself\u001b[39;49m\u001b[43m,\u001b[49m\u001b[43m \u001b[49m\u001b[43mx\u001b[49m\u001b[43m,\u001b[49m\u001b[43m \u001b[49m\u001b[43margs\u001b[49m\u001b[43m)\u001b[49m)(name)\n\u001b[0;32m   1139\u001b[0m method\u001b[38;5;241m.\u001b[39m\u001b[38;5;18m__name__\u001b[39m \u001b[38;5;241m=\u001b[39m \u001b[38;5;28mstr\u001b[39m(name)\n\u001b[0;32m   1140\u001b[0m \u001b[38;5;28;01mtry\u001b[39;00m:\n",
      "File \u001b[1;32mC:\\Program Files\\Lumerical\\v202\\api\\python\\lumapi.py:801\u001b[0m, in \u001b[0;36mappCall\u001b[1;34m(self, name, *args)\u001b[0m\n\u001b[0;32m    799\u001b[0m         argLumTypes \u001b[38;5;241m=\u001b[39m lumTypes(\u001b[38;5;28mlist\u001b[39m(args[\u001b[38;5;241m0\u001b[39m]))\n\u001b[0;32m    800\u001b[0m         message \u001b[38;5;241m+\u001b[39m\u001b[38;5;241m=\u001b[39m (\u001b[38;5;124m\"\u001b[39m\u001b[38;5;124m - \u001b[39m\u001b[38;5;124m\"\u001b[39m \u001b[38;5;241m+\u001b[39m name \u001b[38;5;241m+\u001b[39m \u001b[38;5;124m\"\u001b[39m\u001b[38;5;124m arguments were converted to (\u001b[39m\u001b[38;5;124m\"\u001b[39m \u001b[38;5;241m+\u001b[39m \u001b[38;5;124m\"\u001b[39m\u001b[38;5;124m, \u001b[39m\u001b[38;5;124m\"\u001b[39m\u001b[38;5;241m.\u001b[39mjoin(argLumTypes) \u001b[38;5;241m+\u001b[39m \u001b[38;5;124m\"\u001b[39m\u001b[38;5;124m)\u001b[39m\u001b[38;5;124m\"\u001b[39m)\n\u001b[1;32m--> 801\u001b[0m     \u001b[38;5;28;01mraise\u001b[39;00m LumApiError(message)\n\u001b[0;32m    802\u001b[0m \u001b[38;5;28;01mif\u001b[39;00m \u001b[38;5;28misinstance\u001b[39m(rvals[\u001b[38;5;241m0\u001b[39m], \u001b[38;5;28mstr\u001b[39m) \u001b[38;5;129;01mand\u001b[39;00m (rvals[\u001b[38;5;241m0\u001b[39m] \u001b[38;5;241m==\u001b[39m \u001b[38;5;124m\"\u001b[39m\u001b[38;5;124md6d8d1b2c083c251\u001b[39m\u001b[38;5;124m\"\u001b[39m):\n\u001b[0;32m    803\u001b[0m     rvals[\u001b[38;5;241m0\u001b[39m] \u001b[38;5;241m=\u001b[39m \u001b[38;5;28;01mNone\u001b[39;00m\n",
      "\u001b[1;31mLumApiError\u001b[0m: 'in set, the requested property was not found'"
     ]
    }
   ],
   "source": [
    "#adding the total field scatter field source \n",
    "fdtd.addtfsf()\n",
    "fdtd.set(\"x\",0.0)\n",
    "fdtd.set(\"x span\", x-40e-9) #decreasing the size of side by 40nm\n",
    "\n",
    "fdtd.set(\"y\",0.0)\n",
    "fdtd.set(\"y span\", y-40e-9)\n",
    "\n",
    "fdtd.set(\"z\",0.0)\n",
    "fdtd.set(\"z span\", z-40e-9)\n",
    "\n",
    "#setting direction \n",
    "fdtd.set(\"injection axis\",\"x\")\n",
    "fdtd.set(\"wavelenght start\", wl_start)\n",
    "fdtd.set(\"wavelenght stop\", wl_stop)\n",
    "\n"
   ]
  },
  {
   "cell_type": "code",
   "execution_count": 10,
   "metadata": {},
   "outputs": [
    {
     "ename": "LumApiError",
     "evalue": "'in set, the requested property is inactive'",
     "output_type": "error",
     "traceback": [
      "\u001b[1;31m---------------------------------------------------------------------------\u001b[0m",
      "\u001b[1;31mLumApiError\u001b[0m                               Traceback (most recent call last)",
      "Cell \u001b[1;32mIn[10], line 12\u001b[0m\n\u001b[0;32m      9\u001b[0m fdtd\u001b[38;5;241m.\u001b[39mset(\u001b[38;5;124m\"\u001b[39m\u001b[38;5;124my span\u001b[39m\u001b[38;5;124m\"\u001b[39m, y)\n\u001b[0;32m     11\u001b[0m fdtd\u001b[38;5;241m.\u001b[39mset(\u001b[38;5;124m\"\u001b[39m\u001b[38;5;124mz\u001b[39m\u001b[38;5;124m\"\u001b[39m,\u001b[38;5;241m0.0\u001b[39m)\n\u001b[1;32m---> 12\u001b[0m \u001b[43mfdtd\u001b[49m\u001b[38;5;241;43m.\u001b[39;49m\u001b[43mset\u001b[49m\u001b[43m(\u001b[49m\u001b[38;5;124;43m\"\u001b[39;49m\u001b[38;5;124;43mz span\u001b[39;49m\u001b[38;5;124;43m\"\u001b[39;49m\u001b[43m,\u001b[49m\u001b[43m \u001b[49m\u001b[43mz\u001b[49m\u001b[43m)\u001b[49m\n",
      "File \u001b[1;32mC:\\Program Files\\Lumerical\\v202\\api\\python\\lumapi.py:1138\u001b[0m, in \u001b[0;36mLumerical.__init__.<locals>.<lambda>\u001b[1;34m(self, *args)\u001b[0m\n\u001b[0;32m   1135\u001b[0m     method \u001b[38;5;241m=\u001b[39m (\u001b[38;5;28;01mlambda\u001b[39;00m x: \u001b[38;5;28;01mlambda\u001b[39;00m \u001b[38;5;28mself\u001b[39m, \u001b[38;5;241m*\u001b[39margs, \u001b[38;5;241m*\u001b[39m\u001b[38;5;241m*\u001b[39mkwargs:\n\u001b[0;32m   1136\u001b[0m     appCallWithConstructor(\u001b[38;5;28mself\u001b[39m, x, args, \u001b[38;5;241m*\u001b[39m\u001b[38;5;241m*\u001b[39mkwargs))(name)\n\u001b[0;32m   1137\u001b[0m \u001b[38;5;28;01melse\u001b[39;00m:\n\u001b[1;32m-> 1138\u001b[0m     method \u001b[38;5;241m=\u001b[39m (\u001b[38;5;28;01mlambda\u001b[39;00m x: \u001b[38;5;28;01mlambda\u001b[39;00m \u001b[38;5;28mself\u001b[39m, \u001b[38;5;241m*\u001b[39margs: \u001b[43mappCall\u001b[49m\u001b[43m(\u001b[49m\u001b[38;5;28;43mself\u001b[39;49m\u001b[43m,\u001b[49m\u001b[43m \u001b[49m\u001b[43mx\u001b[49m\u001b[43m,\u001b[49m\u001b[43m \u001b[49m\u001b[43margs\u001b[49m\u001b[43m)\u001b[49m)(name)\n\u001b[0;32m   1139\u001b[0m method\u001b[38;5;241m.\u001b[39m\u001b[38;5;18m__name__\u001b[39m \u001b[38;5;241m=\u001b[39m \u001b[38;5;28mstr\u001b[39m(name)\n\u001b[0;32m   1140\u001b[0m \u001b[38;5;28;01mtry\u001b[39;00m:\n",
      "File \u001b[1;32mC:\\Program Files\\Lumerical\\v202\\api\\python\\lumapi.py:801\u001b[0m, in \u001b[0;36mappCall\u001b[1;34m(self, name, *args)\u001b[0m\n\u001b[0;32m    799\u001b[0m         argLumTypes \u001b[38;5;241m=\u001b[39m lumTypes(\u001b[38;5;28mlist\u001b[39m(args[\u001b[38;5;241m0\u001b[39m]))\n\u001b[0;32m    800\u001b[0m         message \u001b[38;5;241m+\u001b[39m\u001b[38;5;241m=\u001b[39m (\u001b[38;5;124m\"\u001b[39m\u001b[38;5;124m - \u001b[39m\u001b[38;5;124m\"\u001b[39m \u001b[38;5;241m+\u001b[39m name \u001b[38;5;241m+\u001b[39m \u001b[38;5;124m\"\u001b[39m\u001b[38;5;124m arguments were converted to (\u001b[39m\u001b[38;5;124m\"\u001b[39m \u001b[38;5;241m+\u001b[39m \u001b[38;5;124m\"\u001b[39m\u001b[38;5;124m, \u001b[39m\u001b[38;5;124m\"\u001b[39m\u001b[38;5;241m.\u001b[39mjoin(argLumTypes) \u001b[38;5;241m+\u001b[39m \u001b[38;5;124m\"\u001b[39m\u001b[38;5;124m)\u001b[39m\u001b[38;5;124m\"\u001b[39m)\n\u001b[1;32m--> 801\u001b[0m     \u001b[38;5;28;01mraise\u001b[39;00m LumApiError(message)\n\u001b[0;32m    802\u001b[0m \u001b[38;5;28;01mif\u001b[39;00m \u001b[38;5;28misinstance\u001b[39m(rvals[\u001b[38;5;241m0\u001b[39m], \u001b[38;5;28mstr\u001b[39m) \u001b[38;5;129;01mand\u001b[39;00m (rvals[\u001b[38;5;241m0\u001b[39m] \u001b[38;5;241m==\u001b[39m \u001b[38;5;124m\"\u001b[39m\u001b[38;5;124md6d8d1b2c083c251\u001b[39m\u001b[38;5;124m\"\u001b[39m):\n\u001b[0;32m    803\u001b[0m     rvals[\u001b[38;5;241m0\u001b[39m] \u001b[38;5;241m=\u001b[39m \u001b[38;5;28;01mNone\u001b[39;00m\n",
      "\u001b[1;31mLumApiError\u001b[0m: 'in set, the requested property is inactive'"
     ]
    }
   ],
   "source": [
    "#adding a movie monitor\n",
    "fdtd.addmovie()\n",
    "\n",
    "#setting dimensions for the monitor \n",
    "fdtd.set(\"x\",0.0)\n",
    "fdtd.set(\"x span\", x)\n",
    "\n",
    "fdtd.set(\"y\",0.0)\n",
    "fdtd.set(\"y span\", y)\n",
    "\n",
    "fdtd.set(\"z\",0.0)\n",
    "fdtd.set(\"z span\", z)"
   ]
  },
  {
   "cell_type": "code",
   "execution_count": null,
   "metadata": {},
   "outputs": [],
   "source": [
    "#adding a simulation object \n",
    "fdtd.addsphere()\n",
    "\n",
    "#setting up dimensions \n",
    "fdtd.set(\"radius\", r)\n",
    "\n",
    "#adding material properties\n",
    "fdtd.set(\"material\",\"Au (Gold) . Johnson and Christy\")"
   ]
  },
  {
   "cell_type": "code",
   "execution_count": null,
   "metadata": {},
   "outputs": [],
   "source": [
    "#adding detector"
   ]
  },
  {
   "cell_type": "code",
   "execution_count": null,
   "metadata": {},
   "outputs": [],
   "source": [
    "#save lumerical file and run the simulation\n",
    "fdtd.save(\"goldSphere.fsp\")\n",
    "fdtd.run()"
   ]
  }
 ],
 "metadata": {
  "kernelspec": {
   "display_name": "Python 3",
   "language": "python",
   "name": "python3"
  },
  "language_info": {
   "codemirror_mode": {
    "name": "ipython",
    "version": 3
   },
   "file_extension": ".py",
   "mimetype": "text/x-python",
   "name": "python",
   "nbconvert_exporter": "python",
   "pygments_lexer": "ipython3",
   "version": "3.10.6"
  }
 },
 "nbformat": 4,
 "nbformat_minor": 2
}
